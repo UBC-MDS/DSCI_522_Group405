{
 "cells": [
  {
   "cell_type": "code",
   "execution_count": 254,
   "metadata": {},
   "outputs": [],
   "source": [
    "import pandas as pd\n",
    "import numpy as np\n",
    "from lightgbm import LGBMRegressor\n",
    "from xgboost import XGBRegressor\n",
    "from catboost import CatBoostRegressor\n",
    "from sklearn.ensemble import RandomForestRegressor\n",
    "from sklearn.metrics import mean_squared_error, r2_score\n",
    "from sklearn.model_selection import GridSearchCV\n",
    "from sklearn.dummy import DummyRegressor\n",
    "from scipy.stats import zscore, uniform\n",
    "from math import sqrt\n",
    "\n",
    "import altair as alt\n",
    "alt.renderers.enable('notebook')\n",
    "alt.data_transformers.enable('json')\n",
    "\n",
    "from sklearn.model_selection import train_test_split"
   ]
  },
  {
   "cell_type": "code",
   "execution_count": 133,
   "metadata": {},
   "outputs": [],
   "source": [
    "# read data\n",
    "airbnb_ny = pd.read_csv('../data/raw_data.csv')\n",
    "# drop features\n",
    "airbnb_ny.drop(['id','name', 'host_id', 'host_name','last_review'], axis=1, inplace=True)\n",
    "# fill nas in reviews per month\n",
    "airbnb_ny = airbnb_ny.fillna({'reviews_per_month':0})\n",
    "# split to X and Y\n",
    "X = airbnb_ny.drop(['price'], axis=1)\n",
    "y = airbnb_ny.price\n",
    "# split to test and train\n",
    "X_train, X_test, y_train, y_test = train_test_split(X, y, test_size=0.2, random_state = 1)"
   ]
  },
  {
   "cell_type": "code",
   "execution_count": 134,
   "metadata": {},
   "outputs": [],
   "source": [
    "# combine X and y for test and train respectively\n",
    "full_train = pd.concat((X_train, y_train), axis= 1)\n",
    "full_test = pd.concat((X_test, y_test), axis= 1)"
   ]
  },
  {
   "cell_type": "code",
   "execution_count": 135,
   "metadata": {},
   "outputs": [
    {
     "data": {
      "text/html": [
       "<div>\n",
       "<style scoped>\n",
       "    .dataframe tbody tr th:only-of-type {\n",
       "        vertical-align: middle;\n",
       "    }\n",
       "\n",
       "    .dataframe tbody tr th {\n",
       "        vertical-align: top;\n",
       "    }\n",
       "\n",
       "    .dataframe thead th {\n",
       "        text-align: right;\n",
       "    }\n",
       "</style>\n",
       "<table border=\"1\" class=\"dataframe\">\n",
       "  <thead>\n",
       "    <tr style=\"text-align: right;\">\n",
       "      <th></th>\n",
       "      <th>neighbourhood_group</th>\n",
       "      <th>neighbourhood</th>\n",
       "      <th>latitude</th>\n",
       "      <th>longitude</th>\n",
       "      <th>room_type</th>\n",
       "      <th>minimum_nights</th>\n",
       "      <th>number_of_reviews</th>\n",
       "      <th>reviews_per_month</th>\n",
       "      <th>calculated_host_listings_count</th>\n",
       "      <th>availability_365</th>\n",
       "      <th>price</th>\n",
       "    </tr>\n",
       "  </thead>\n",
       "  <tbody>\n",
       "    <tr>\n",
       "      <th>21838</th>\n",
       "      <td>Manhattan</td>\n",
       "      <td>East Village</td>\n",
       "      <td>40.72208</td>\n",
       "      <td>-73.98109</td>\n",
       "      <td>Private room</td>\n",
       "      <td>1</td>\n",
       "      <td>116</td>\n",
       "      <td>4.07</td>\n",
       "      <td>2</td>\n",
       "      <td>238</td>\n",
       "      <td>73</td>\n",
       "    </tr>\n",
       "    <tr>\n",
       "      <th>47539</th>\n",
       "      <td>Manhattan</td>\n",
       "      <td>Nolita</td>\n",
       "      <td>40.72206</td>\n",
       "      <td>-73.99695</td>\n",
       "      <td>Entire home/apt</td>\n",
       "      <td>4</td>\n",
       "      <td>0</td>\n",
       "      <td>0.00</td>\n",
       "      <td>1</td>\n",
       "      <td>317</td>\n",
       "      <td>189</td>\n",
       "    </tr>\n",
       "    <tr>\n",
       "      <th>25386</th>\n",
       "      <td>Staten Island</td>\n",
       "      <td>Fort Wadsworth</td>\n",
       "      <td>40.59546</td>\n",
       "      <td>-74.06092</td>\n",
       "      <td>Entire home/apt</td>\n",
       "      <td>7</td>\n",
       "      <td>0</td>\n",
       "      <td>0.00</td>\n",
       "      <td>3</td>\n",
       "      <td>365</td>\n",
       "      <td>800</td>\n",
       "    </tr>\n",
       "    <tr>\n",
       "      <th>24173</th>\n",
       "      <td>Manhattan</td>\n",
       "      <td>Upper East Side</td>\n",
       "      <td>40.77854</td>\n",
       "      <td>-73.94984</td>\n",
       "      <td>Entire home/apt</td>\n",
       "      <td>31</td>\n",
       "      <td>7</td>\n",
       "      <td>0.30</td>\n",
       "      <td>33</td>\n",
       "      <td>345</td>\n",
       "      <td>265</td>\n",
       "    </tr>\n",
       "    <tr>\n",
       "      <th>27875</th>\n",
       "      <td>Brooklyn</td>\n",
       "      <td>Bedford-Stuyvesant</td>\n",
       "      <td>40.69854</td>\n",
       "      <td>-73.94069</td>\n",
       "      <td>Private room</td>\n",
       "      <td>2</td>\n",
       "      <td>4</td>\n",
       "      <td>0.21</td>\n",
       "      <td>1</td>\n",
       "      <td>0</td>\n",
       "      <td>50</td>\n",
       "    </tr>\n",
       "  </tbody>\n",
       "</table>\n",
       "</div>"
      ],
      "text/plain": [
       "      neighbourhood_group       neighbourhood  latitude  longitude  \\\n",
       "21838           Manhattan        East Village  40.72208  -73.98109   \n",
       "47539           Manhattan              Nolita  40.72206  -73.99695   \n",
       "25386       Staten Island      Fort Wadsworth  40.59546  -74.06092   \n",
       "24173           Manhattan     Upper East Side  40.77854  -73.94984   \n",
       "27875            Brooklyn  Bedford-Stuyvesant  40.69854  -73.94069   \n",
       "\n",
       "             room_type  minimum_nights  number_of_reviews  reviews_per_month  \\\n",
       "21838     Private room               1                116               4.07   \n",
       "47539  Entire home/apt               4                  0               0.00   \n",
       "25386  Entire home/apt               7                  0               0.00   \n",
       "24173  Entire home/apt              31                  7               0.30   \n",
       "27875     Private room               2                  4               0.21   \n",
       "\n",
       "       calculated_host_listings_count  availability_365  price  \n",
       "21838                               2               238     73  \n",
       "47539                               1               317    189  \n",
       "25386                               3               365    800  \n",
       "24173                              33               345    265  \n",
       "27875                               1                 0     50  "
      ]
     },
     "execution_count": 135,
     "metadata": {},
     "output_type": "execute_result"
    }
   ],
   "source": [
    "full_train.head()"
   ]
  },
  {
   "cell_type": "code",
   "execution_count": 136,
   "metadata": {},
   "outputs": [
    {
     "name": "stdout",
     "output_type": "stream",
     "text": [
      "<class 'pandas.core.frame.DataFrame'>\n",
      "Int64Index: 39116 entries, 21838 to 33003\n",
      "Data columns (total 11 columns):\n",
      "neighbourhood_group               39116 non-null object\n",
      "neighbourhood                     39116 non-null object\n",
      "latitude                          39116 non-null float64\n",
      "longitude                         39116 non-null float64\n",
      "room_type                         39116 non-null object\n",
      "minimum_nights                    39116 non-null int64\n",
      "number_of_reviews                 39116 non-null int64\n",
      "reviews_per_month                 39116 non-null float64\n",
      "calculated_host_listings_count    39116 non-null int64\n",
      "availability_365                  39116 non-null int64\n",
      "price                             39116 non-null int64\n",
      "dtypes: float64(3), int64(5), object(3)\n",
      "memory usage: 3.6+ MB\n"
     ]
    }
   ],
   "source": [
    "full_train.info()"
   ]
  },
  {
   "cell_type": "code",
   "execution_count": 137,
   "metadata": {},
   "outputs": [
    {
     "data": {
      "text/plain": [
       "(39116, 11)"
      ]
     },
     "execution_count": 137,
     "metadata": {},
     "output_type": "execute_result"
    }
   ],
   "source": [
    "full_train.shape"
   ]
  },
  {
   "cell_type": "code",
   "execution_count": 138,
   "metadata": {},
   "outputs": [],
   "source": [
    "full_train = full_train[(np.abs(zscore(full_train[['price']])) < 3).all(axis=1)]"
   ]
  },
  {
   "cell_type": "code",
   "execution_count": 139,
   "metadata": {},
   "outputs": [
    {
     "data": {
      "text/plain": [
       "(38799, 11)"
      ]
     },
     "execution_count": 139,
     "metadata": {},
     "output_type": "execute_result"
    }
   ],
   "source": [
    "full_train.shape"
   ]
  },
  {
   "cell_type": "code",
   "execution_count": 140,
   "metadata": {},
   "outputs": [],
   "source": [
    "X_train = full_train.drop(['price'], axis=1)\n",
    "y_train = full_train['price']\n",
    "X_test = full_test.drop(['price'], axis=1)\n",
    "y_test = full_test['price']"
   ]
  },
  {
   "cell_type": "code",
   "execution_count": 141,
   "metadata": {},
   "outputs": [],
   "source": [
    "categorical_features = [\n",
    "  'neighbourhood_group', \n",
    "  'neighbourhood',\n",
    "  'room_type'\n",
    "]"
   ]
  },
  {
   "cell_type": "code",
   "execution_count": 142,
   "metadata": {},
   "outputs": [],
   "source": [
    "for feature in categorical_features:\n",
    "  le = LabelEncoder()\n",
    "  le.fit(X_train[feature])\n",
    "  X_train[feature] = le.transform(X_train[feature])\n",
    "  X_test[feature] = le.transform(X_test[feature])"
   ]
  },
  {
   "cell_type": "code",
   "execution_count": 143,
   "metadata": {},
   "outputs": [
    {
     "data": {
      "text/html": [
       "<div>\n",
       "<style scoped>\n",
       "    .dataframe tbody tr th:only-of-type {\n",
       "        vertical-align: middle;\n",
       "    }\n",
       "\n",
       "    .dataframe tbody tr th {\n",
       "        vertical-align: top;\n",
       "    }\n",
       "\n",
       "    .dataframe thead th {\n",
       "        text-align: right;\n",
       "    }\n",
       "</style>\n",
       "<table border=\"1\" class=\"dataframe\">\n",
       "  <thead>\n",
       "    <tr style=\"text-align: right;\">\n",
       "      <th></th>\n",
       "      <th>neighbourhood_group</th>\n",
       "      <th>neighbourhood</th>\n",
       "      <th>latitude</th>\n",
       "      <th>longitude</th>\n",
       "      <th>room_type</th>\n",
       "      <th>minimum_nights</th>\n",
       "      <th>number_of_reviews</th>\n",
       "      <th>reviews_per_month</th>\n",
       "      <th>calculated_host_listings_count</th>\n",
       "      <th>availability_365</th>\n",
       "    </tr>\n",
       "  </thead>\n",
       "  <tbody>\n",
       "    <tr>\n",
       "      <th>21838</th>\n",
       "      <td>2</td>\n",
       "      <td>64</td>\n",
       "      <td>40.72208</td>\n",
       "      <td>-73.98109</td>\n",
       "      <td>1</td>\n",
       "      <td>1</td>\n",
       "      <td>116</td>\n",
       "      <td>4.07</td>\n",
       "      <td>2</td>\n",
       "      <td>238</td>\n",
       "    </tr>\n",
       "    <tr>\n",
       "      <th>47539</th>\n",
       "      <td>2</td>\n",
       "      <td>145</td>\n",
       "      <td>40.72206</td>\n",
       "      <td>-73.99695</td>\n",
       "      <td>0</td>\n",
       "      <td>4</td>\n",
       "      <td>0</td>\n",
       "      <td>0.00</td>\n",
       "      <td>1</td>\n",
       "      <td>317</td>\n",
       "    </tr>\n",
       "    <tr>\n",
       "      <th>25386</th>\n",
       "      <td>4</td>\n",
       "      <td>82</td>\n",
       "      <td>40.59546</td>\n",
       "      <td>-74.06092</td>\n",
       "      <td>0</td>\n",
       "      <td>7</td>\n",
       "      <td>0</td>\n",
       "      <td>0.00</td>\n",
       "      <td>3</td>\n",
       "      <td>365</td>\n",
       "    </tr>\n",
       "    <tr>\n",
       "      <th>24173</th>\n",
       "      <td>2</td>\n",
       "      <td>201</td>\n",
       "      <td>40.77854</td>\n",
       "      <td>-73.94984</td>\n",
       "      <td>0</td>\n",
       "      <td>31</td>\n",
       "      <td>7</td>\n",
       "      <td>0.30</td>\n",
       "      <td>33</td>\n",
       "      <td>345</td>\n",
       "    </tr>\n",
       "    <tr>\n",
       "      <th>27875</th>\n",
       "      <td>1</td>\n",
       "      <td>13</td>\n",
       "      <td>40.69854</td>\n",
       "      <td>-73.94069</td>\n",
       "      <td>1</td>\n",
       "      <td>2</td>\n",
       "      <td>4</td>\n",
       "      <td>0.21</td>\n",
       "      <td>1</td>\n",
       "      <td>0</td>\n",
       "    </tr>\n",
       "  </tbody>\n",
       "</table>\n",
       "</div>"
      ],
      "text/plain": [
       "       neighbourhood_group  neighbourhood  latitude  longitude  room_type  \\\n",
       "21838                    2             64  40.72208  -73.98109          1   \n",
       "47539                    2            145  40.72206  -73.99695          0   \n",
       "25386                    4             82  40.59546  -74.06092          0   \n",
       "24173                    2            201  40.77854  -73.94984          0   \n",
       "27875                    1             13  40.69854  -73.94069          1   \n",
       "\n",
       "       minimum_nights  number_of_reviews  reviews_per_month  \\\n",
       "21838               1                116               4.07   \n",
       "47539               4                  0               0.00   \n",
       "25386               7                  0               0.00   \n",
       "24173              31                  7               0.30   \n",
       "27875               2                  4               0.21   \n",
       "\n",
       "       calculated_host_listings_count  availability_365  \n",
       "21838                               2               238  \n",
       "47539                               1               317  \n",
       "25386                               3               365  \n",
       "24173                              33               345  \n",
       "27875                               1                 0  "
      ]
     },
     "execution_count": 143,
     "metadata": {},
     "output_type": "execute_result"
    }
   ],
   "source": [
    "X_train.head()"
   ]
  },
  {
   "cell_type": "code",
   "execution_count": 144,
   "metadata": {},
   "outputs": [],
   "source": [
    "null_model = DummyRegressor()"
   ]
  },
  {
   "cell_type": "code",
   "execution_count": 145,
   "metadata": {},
   "outputs": [
    {
     "data": {
      "text/plain": [
       "DummyRegressor(constant=None, quantile=None, strategy='mean')"
      ]
     },
     "execution_count": 145,
     "metadata": {},
     "output_type": "execute_result"
    }
   ],
   "source": [
    "null_model.fit(X_train, y_train)"
   ]
  },
  {
   "cell_type": "markdown",
   "metadata": {},
   "source": [
    "The MSE of the null model is:"
   ]
  },
  {
   "cell_type": "code",
   "execution_count": 220,
   "metadata": {},
   "outputs": [
    {
     "data": {
      "text/plain": [
       "253.5912373012752"
      ]
     },
     "execution_count": 220,
     "metadata": {},
     "output_type": "execute_result"
    }
   ],
   "source": [
    "sqrt(mean_squared_error(y_test, null_model.predict(X_test)))"
   ]
  },
  {
   "cell_type": "code",
   "execution_count": 147,
   "metadata": {},
   "outputs": [],
   "source": [
    "random_state = 0"
   ]
  },
  {
   "cell_type": "code",
   "execution_count": 167,
   "metadata": {},
   "outputs": [
    {
     "data": {
      "text/plain": [
       "[1, 2, 3, 4]"
      ]
     },
     "execution_count": 167,
     "metadata": {},
     "output_type": "execute_result"
    }
   ],
   "source": [
    "list(range(1, 5))"
   ]
  },
  {
   "cell_type": "code",
   "execution_count": 202,
   "metadata": {},
   "outputs": [],
   "source": [
    "random_forest_tuning_parameters = {\n",
    "  'max_depth': [10, 50, None],\n",
    "  'min_samples_split': [5, 20],\n",
    "  'n_estimators': [600, 1500]\n",
    "}"
   ]
  },
  {
   "cell_type": "code",
   "execution_count": 203,
   "metadata": {},
   "outputs": [],
   "source": [
    "rf = GridSearchCV(\n",
    "  estimator=RandomForestRegressor(random_state=random_state), \n",
    "  param_grid=random_forest_tuning_parameters, \n",
    "  cv=4, \n",
    "  verbose=2,\n",
    "  n_jobs=-1,\n",
    "  scoring='neg_mean_squared_error'\n",
    ")"
   ]
  },
  {
   "cell_type": "code",
   "execution_count": 204,
   "metadata": {},
   "outputs": [
    {
     "name": "stdout",
     "output_type": "stream",
     "text": [
      "Fitting 4 folds for each of 12 candidates, totalling 48 fits\n"
     ]
    },
    {
     "name": "stderr",
     "output_type": "stream",
     "text": [
      "[Parallel(n_jobs=-1)]: Using backend LokyBackend with 8 concurrent workers.\n",
      "[Parallel(n_jobs=-1)]: Done  25 tasks      | elapsed: 13.2min\n",
      "[Parallel(n_jobs=-1)]: Done  48 out of  48 | elapsed: 23.6min finished\n"
     ]
    },
    {
     "data": {
      "text/plain": [
       "GridSearchCV(cv=4, error_score='raise-deprecating',\n",
       "             estimator=RandomForestRegressor(bootstrap=True, criterion='mse',\n",
       "                                             max_depth=None,\n",
       "                                             max_features='auto',\n",
       "                                             max_leaf_nodes=None,\n",
       "                                             min_impurity_decrease=0.0,\n",
       "                                             min_impurity_split=None,\n",
       "                                             min_samples_leaf=1,\n",
       "                                             min_samples_split=2,\n",
       "                                             min_weight_fraction_leaf=0.0,\n",
       "                                             n_estimators='warn', n_jobs=None,\n",
       "                                             oob_score=False, random_state=0,\n",
       "                                             verbose=0, warm_start=False),\n",
       "             iid='warn', n_jobs=-1,\n",
       "             param_grid={'max_depth': [10, 50, None],\n",
       "                         'min_samples_split': [5, 20],\n",
       "                         'n_estimators': [600, 1500]},\n",
       "             pre_dispatch='2*n_jobs', refit=True, return_train_score=False,\n",
       "             scoring='neg_mean_squared_error', verbose=2)"
      ]
     },
     "execution_count": 204,
     "metadata": {},
     "output_type": "execute_result"
    }
   ],
   "source": [
    "rf.fit(X_train, y_train)"
   ]
  },
  {
   "cell_type": "code",
   "execution_count": 262,
   "metadata": {},
   "outputs": [],
   "source": [
    "def print_model_info(grid_model, model_name):\n",
    "  print(model_name + ' info:')\n",
    "  print('')\n",
    "  print('RMSE:')\n",
    "  print(sqrt(mean_squared_error(y_test, grid_model.best_estimator_.predict(X_test))))\n",
    "  print('R2:')\n",
    "  print(r2_score(y_test, grid_model.best_estimator_.predict(X_test)))\n",
    "  print('')\n",
    "  print('Best params: ')\n",
    "  print(grid_model.best_params_)\n",
    "  feature_importantance_series = pd.Series(grid_model.best_estimator_.feature_importances_)\n",
    "  feature_importantance_series.index = X_test.columns\n",
    "  print('')\n",
    "  print('Feature importance:')\n",
    "  print(feature_importantance_series.sort_values(ascending=False))"
   ]
  },
  {
   "cell_type": "code",
   "execution_count": 263,
   "metadata": {},
   "outputs": [
    {
     "name": "stdout",
     "output_type": "stream",
     "text": [
      "Random Forest Regressor info:\n",
      "\n",
      "RMSE:\n",
      "238.07890867012168\n",
      "R2:\n",
      "0.11633635322591229\n",
      "\n",
      "Best params: \n",
      "{'max_depth': 50, 'min_samples_split': 20, 'n_estimators': 1500}\n",
      "\n",
      "Feature importance:\n",
      "room_type                         0.350602\n",
      "longitude                         0.189770\n",
      "latitude                          0.140359\n",
      "availability_365                  0.094447\n",
      "minimum_nights                    0.057287\n",
      "reviews_per_month                 0.051639\n",
      "number_of_reviews                 0.045903\n",
      "calculated_host_listings_count    0.038926\n",
      "neighbourhood                     0.029932\n",
      "neighbourhood_group               0.001135\n",
      "dtype: float64\n"
     ]
    }
   ],
   "source": [
    "print_model_info(rf, 'Random Forest Regressor')"
   ]
  },
  {
   "cell_type": "code",
   "execution_count": 237,
   "metadata": {},
   "outputs": [],
   "source": [
    "light_regressor_tuning_parameters = {\n",
    "  'min_data_in_leaf': [100, 300, 500, 1000, 1500],\n",
    "  'num_leaves': [15, 30, 40, 50, 60],\n",
    "  'max_depth': [15, 30, 45]\n",
    "}"
   ]
  },
  {
   "cell_type": "code",
   "execution_count": 238,
   "metadata": {},
   "outputs": [],
   "source": [
    "light_reg = GridSearchCV(\n",
    "  estimator=LGBMRegressor(random_state=random_state), \n",
    "  param_grid=light_regressor_tuning_parameters, \n",
    "  cv=4, \n",
    "  verbose=2,\n",
    "  n_jobs=-1,\n",
    "  scoring='neg_mean_squared_error'\n",
    ")"
   ]
  },
  {
   "cell_type": "code",
   "execution_count": 239,
   "metadata": {},
   "outputs": [
    {
     "name": "stdout",
     "output_type": "stream",
     "text": [
      "Fitting 4 folds for each of 75 candidates, totalling 300 fits\n"
     ]
    },
    {
     "name": "stderr",
     "output_type": "stream",
     "text": [
      "[Parallel(n_jobs=-1)]: Using backend LokyBackend with 8 concurrent workers.\n",
      "[Parallel(n_jobs=-1)]: Done  25 tasks      | elapsed:    5.9s\n",
      "[Parallel(n_jobs=-1)]: Done 146 tasks      | elapsed:   19.0s\n",
      "[Parallel(n_jobs=-1)]: Done 300 out of 300 | elapsed:   37.0s finished\n"
     ]
    },
    {
     "data": {
      "text/plain": [
       "GridSearchCV(cv=4, error_score='raise-deprecating',\n",
       "             estimator=LGBMRegressor(boosting_type='gbdt', class_weight=None,\n",
       "                                     colsample_bytree=1.0,\n",
       "                                     importance_type='split', learning_rate=0.1,\n",
       "                                     max_depth=-1, min_child_samples=20,\n",
       "                                     min_child_weight=0.001, min_split_gain=0.0,\n",
       "                                     n_estimators=100, n_jobs=-1, num_leaves=31,\n",
       "                                     objective=None, random_state=0,\n",
       "                                     reg_alpha=0.0, reg_lambda=0.0, silent=True,\n",
       "                                     subsample=1.0, subsample_for_bin=200000,\n",
       "                                     subsample_freq=0),\n",
       "             iid='warn', n_jobs=-1,\n",
       "             param_grid={'max_depth': [15, 30, 45],\n",
       "                         'min_data_in_leaf': [100, 300, 500, 1000, 1500],\n",
       "                         'num_leaves': [15, 30, 40, 50, 60]},\n",
       "             pre_dispatch='2*n_jobs', refit=True, return_train_score=False,\n",
       "             scoring='neg_mean_squared_error', verbose=2)"
      ]
     },
     "execution_count": 239,
     "metadata": {},
     "output_type": "execute_result"
    }
   ],
   "source": [
    "light_reg.fit(X_train, y_train)"
   ]
  },
  {
   "cell_type": "code",
   "execution_count": 253,
   "metadata": {},
   "outputs": [
    {
     "name": "stdout",
     "output_type": "stream",
     "text": [
      "LightGBM Regressor info:\n",
      "\n",
      "RMSE:\n",
      "238.11788393760136\n",
      "\n",
      "Best params: \n",
      "{'max_depth': 15, 'min_data_in_leaf': 100, 'num_leaves': 50}\n",
      "\n",
      "Feature importance:\n",
      "longitude                         975\n",
      "latitude                          832\n",
      "availability_365                  764\n",
      "minimum_nights                    471\n",
      "reviews_per_month                 452\n",
      "number_of_reviews                 427\n",
      "calculated_host_listings_count    402\n",
      "neighbourhood                     374\n",
      "room_type                         178\n",
      "neighbourhood_group                14\n",
      "dtype: int64\n"
     ]
    }
   ],
   "source": [
    "print_model_info(light_reg, 'LightGBM Regressor')"
   ]
  },
  {
   "cell_type": "code",
   "execution_count": 247,
   "metadata": {},
   "outputs": [],
   "source": [
    "xgb_regressor_tuning_parameters = { \n",
    "  'max_depth': [5, 7, 10],\n",
    "  'colsample_bytree': [0.6, 0.7, 0.8],\n",
    "  'n_estimators': [500, 1000, 1500]\n",
    "}"
   ]
  },
  {
   "cell_type": "code",
   "execution_count": 248,
   "metadata": {},
   "outputs": [],
   "source": [
    "xgb_reg = GridSearchCV(\n",
    "  estimator=XGBRegressor(random_state=random_state), \n",
    "  param_grid=xgb_regressor_tuning_parameters, \n",
    "  cv=4, \n",
    "  verbose=2,\n",
    "  n_jobs=-1,\n",
    "  scoring='neg_mean_squared_error'\n",
    ")"
   ]
  },
  {
   "cell_type": "code",
   "execution_count": 249,
   "metadata": {},
   "outputs": [
    {
     "name": "stdout",
     "output_type": "stream",
     "text": [
      "Fitting 4 folds for each of 27 candidates, totalling 108 fits\n"
     ]
    },
    {
     "name": "stderr",
     "output_type": "stream",
     "text": [
      "[Parallel(n_jobs=-1)]: Using backend LokyBackend with 8 concurrent workers.\n",
      "[Parallel(n_jobs=-1)]: Done  25 tasks      | elapsed:  3.7min\n",
      "[Parallel(n_jobs=-1)]: Done 108 out of 108 | elapsed: 19.0min finished\n",
      "/Users/jackyho/anaconda3/lib/python3.7/site-packages/xgboost/core.py:587: FutureWarning: Series.base is deprecated and will be removed in a future version\n",
      "  if getattr(data, 'base', None) is not None and \\\n",
      "/Users/jackyho/anaconda3/lib/python3.7/site-packages/xgboost/core.py:588: FutureWarning: Series.base is deprecated and will be removed in a future version\n",
      "  data.base is not None and isinstance(data, np.ndarray) \\\n"
     ]
    },
    {
     "name": "stdout",
     "output_type": "stream",
     "text": [
      "[18:57:27] WARNING: src/objective/regression_obj.cu:152: reg:linear is now deprecated in favor of reg:squarederror.\n"
     ]
    },
    {
     "data": {
      "text/plain": [
       "GridSearchCV(cv=4, error_score='raise-deprecating',\n",
       "             estimator=XGBRegressor(base_score=0.5, booster='gbtree',\n",
       "                                    colsample_bylevel=1, colsample_bynode=1,\n",
       "                                    colsample_bytree=1, gamma=0,\n",
       "                                    importance_type='gain', learning_rate=0.1,\n",
       "                                    max_delta_step=0, max_depth=3,\n",
       "                                    min_child_weight=1, missing=None,\n",
       "                                    n_estimators=100, n_jobs=1, nthread=None,\n",
       "                                    objective='reg:linear', random_state=0,\n",
       "                                    reg_alpha=0, reg_lambda=1,\n",
       "                                    scale_pos_weight=1, seed=None, silent=None,\n",
       "                                    subsample=1, verbosity=1),\n",
       "             iid='warn', n_jobs=-1,\n",
       "             param_grid={'colsample_bytree': [0.6, 0.7, 0.8],\n",
       "                         'max_depth': [5, 7, 10],\n",
       "                         'n_estimators': [500, 1000, 1500]},\n",
       "             pre_dispatch='2*n_jobs', refit=True, return_train_score=False,\n",
       "             scoring='neg_mean_squared_error', verbose=2)"
      ]
     },
     "execution_count": 249,
     "metadata": {},
     "output_type": "execute_result"
    }
   ],
   "source": [
    "xgb_reg.fit(X_train, y_train)"
   ]
  },
  {
   "cell_type": "code",
   "execution_count": 250,
   "metadata": {},
   "outputs": [
    {
     "name": "stdout",
     "output_type": "stream",
     "text": [
      "XGBoost Regressor info:\n",
      "\n",
      "MSE:\n",
      "237.98357948893192\n",
      "\n",
      "Best params: \n",
      "{'colsample_bytree': 0.6, 'max_depth': 5, 'n_estimators': 500}\n",
      "\n",
      "Feature importance:\n",
      "room_type                         0.550407\n",
      "neighbourhood_group               0.109330\n",
      "longitude                         0.059549\n",
      "calculated_host_listings_count    0.053424\n",
      "availability_365                  0.051309\n",
      "latitude                          0.046532\n",
      "minimum_nights                    0.046059\n",
      "number_of_reviews                 0.032204\n",
      "neighbourhood                     0.029781\n",
      "reviews_per_month                 0.021406\n",
      "dtype: float32\n"
     ]
    }
   ],
   "source": [
    "print_model_info(xgb_reg, 'XGBoost Regressor')"
   ]
  },
  {
   "cell_type": "code",
   "execution_count": null,
   "metadata": {},
   "outputs": [],
   "source": []
  }
 ],
 "metadata": {
  "kernelspec": {
   "display_name": "Python 3",
   "language": "python",
   "name": "python3"
  },
  "language_info": {
   "codemirror_mode": {
    "name": "ipython",
    "version": 3
   },
   "file_extension": ".py",
   "mimetype": "text/x-python",
   "name": "python",
   "nbconvert_exporter": "python",
   "pygments_lexer": "ipython3",
   "version": "3.7.3"
  }
 },
 "nbformat": 4,
 "nbformat_minor": 2
}
