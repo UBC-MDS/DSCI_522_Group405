{
 "cells": [
  {
   "cell_type": "code",
   "execution_count": 1,
   "metadata": {},
   "outputs": [],
   "source": [
    "import pandas as pd\n",
    "import numpy as np\n",
    "from lightgbm import LGBMRegressor\n",
    "from xgboost import XGBRegressor\n",
    "from sklearn.ensemble import RandomForestRegressor\n",
    "from sklearn.metrics import mean_absolute_error\n",
    "from sklearn.model_selection import GridSearchCV\n",
    "from sklearn.dummy import DummyRegressor\n",
    "from scipy.stats import zscore, uniform\n",
    "from sklearn.preprocessing import LabelEncoder, MinMaxScaler\n",
    "from math import sqrt\n",
    "\n",
    "import altair as alt\n",
    "alt.renderers.enable('notebook')\n",
    "alt.data_transformers.enable('json')\n",
    "\n",
    "from sklearn.model_selection import train_test_split"
   ]
  },
  {
   "cell_type": "code",
   "execution_count": 2,
   "metadata": {},
   "outputs": [],
   "source": [
    "# read data\n",
    "airbnb_ny = pd.read_csv('../data/raw_data.csv')\n",
    "# drop features\n",
    "airbnb_ny.drop(['id','name', 'host_id', 'host_name','last_review'], axis=1, inplace=True)\n",
    "# fill nas in reviews per month\n",
    "airbnb_ny = airbnb_ny.fillna({'reviews_per_month':0})\n",
    "# split to X and Y\n",
    "X = airbnb_ny.drop(['price'], axis=1)\n",
    "y = airbnb_ny.price\n",
    "# split to test and train\n",
    "X_train, X_test, y_train, y_test = train_test_split(X, y, test_size=0.2, random_state = 1)"
   ]
  },
  {
   "cell_type": "code",
   "execution_count": 3,
   "metadata": {},
   "outputs": [],
   "source": [
    "# combine X and y for test and train respectively\n",
    "full_train = pd.concat((X_train, y_train), axis= 1)\n",
    "full_test = pd.concat((X_test, y_test), axis= 1)"
   ]
  },
  {
   "cell_type": "code",
   "execution_count": 4,
   "metadata": {},
   "outputs": [
    {
     "data": {
      "text/html": [
       "<div>\n",
       "<style scoped>\n",
       "    .dataframe tbody tr th:only-of-type {\n",
       "        vertical-align: middle;\n",
       "    }\n",
       "\n",
       "    .dataframe tbody tr th {\n",
       "        vertical-align: top;\n",
       "    }\n",
       "\n",
       "    .dataframe thead th {\n",
       "        text-align: right;\n",
       "    }\n",
       "</style>\n",
       "<table border=\"1\" class=\"dataframe\">\n",
       "  <thead>\n",
       "    <tr style=\"text-align: right;\">\n",
       "      <th></th>\n",
       "      <th>neighbourhood_group</th>\n",
       "      <th>neighbourhood</th>\n",
       "      <th>latitude</th>\n",
       "      <th>longitude</th>\n",
       "      <th>room_type</th>\n",
       "      <th>minimum_nights</th>\n",
       "      <th>number_of_reviews</th>\n",
       "      <th>reviews_per_month</th>\n",
       "      <th>calculated_host_listings_count</th>\n",
       "      <th>availability_365</th>\n",
       "      <th>price</th>\n",
       "    </tr>\n",
       "  </thead>\n",
       "  <tbody>\n",
       "    <tr>\n",
       "      <th>21838</th>\n",
       "      <td>Manhattan</td>\n",
       "      <td>East Village</td>\n",
       "      <td>40.72208</td>\n",
       "      <td>-73.98109</td>\n",
       "      <td>Private room</td>\n",
       "      <td>1</td>\n",
       "      <td>116</td>\n",
       "      <td>4.07</td>\n",
       "      <td>2</td>\n",
       "      <td>238</td>\n",
       "      <td>73</td>\n",
       "    </tr>\n",
       "    <tr>\n",
       "      <th>47539</th>\n",
       "      <td>Manhattan</td>\n",
       "      <td>Nolita</td>\n",
       "      <td>40.72206</td>\n",
       "      <td>-73.99695</td>\n",
       "      <td>Entire home/apt</td>\n",
       "      <td>4</td>\n",
       "      <td>0</td>\n",
       "      <td>0.00</td>\n",
       "      <td>1</td>\n",
       "      <td>317</td>\n",
       "      <td>189</td>\n",
       "    </tr>\n",
       "    <tr>\n",
       "      <th>25386</th>\n",
       "      <td>Staten Island</td>\n",
       "      <td>Fort Wadsworth</td>\n",
       "      <td>40.59546</td>\n",
       "      <td>-74.06092</td>\n",
       "      <td>Entire home/apt</td>\n",
       "      <td>7</td>\n",
       "      <td>0</td>\n",
       "      <td>0.00</td>\n",
       "      <td>3</td>\n",
       "      <td>365</td>\n",
       "      <td>800</td>\n",
       "    </tr>\n",
       "    <tr>\n",
       "      <th>24173</th>\n",
       "      <td>Manhattan</td>\n",
       "      <td>Upper East Side</td>\n",
       "      <td>40.77854</td>\n",
       "      <td>-73.94984</td>\n",
       "      <td>Entire home/apt</td>\n",
       "      <td>31</td>\n",
       "      <td>7</td>\n",
       "      <td>0.30</td>\n",
       "      <td>33</td>\n",
       "      <td>345</td>\n",
       "      <td>265</td>\n",
       "    </tr>\n",
       "    <tr>\n",
       "      <th>27875</th>\n",
       "      <td>Brooklyn</td>\n",
       "      <td>Bedford-Stuyvesant</td>\n",
       "      <td>40.69854</td>\n",
       "      <td>-73.94069</td>\n",
       "      <td>Private room</td>\n",
       "      <td>2</td>\n",
       "      <td>4</td>\n",
       "      <td>0.21</td>\n",
       "      <td>1</td>\n",
       "      <td>0</td>\n",
       "      <td>50</td>\n",
       "    </tr>\n",
       "  </tbody>\n",
       "</table>\n",
       "</div>"
      ],
      "text/plain": [
       "      neighbourhood_group       neighbourhood  latitude  longitude  \\\n",
       "21838           Manhattan        East Village  40.72208  -73.98109   \n",
       "47539           Manhattan              Nolita  40.72206  -73.99695   \n",
       "25386       Staten Island      Fort Wadsworth  40.59546  -74.06092   \n",
       "24173           Manhattan     Upper East Side  40.77854  -73.94984   \n",
       "27875            Brooklyn  Bedford-Stuyvesant  40.69854  -73.94069   \n",
       "\n",
       "             room_type  minimum_nights  number_of_reviews  reviews_per_month  \\\n",
       "21838     Private room               1                116               4.07   \n",
       "47539  Entire home/apt               4                  0               0.00   \n",
       "25386  Entire home/apt               7                  0               0.00   \n",
       "24173  Entire home/apt              31                  7               0.30   \n",
       "27875     Private room               2                  4               0.21   \n",
       "\n",
       "       calculated_host_listings_count  availability_365  price  \n",
       "21838                               2               238     73  \n",
       "47539                               1               317    189  \n",
       "25386                               3               365    800  \n",
       "24173                              33               345    265  \n",
       "27875                               1                 0     50  "
      ]
     },
     "execution_count": 4,
     "metadata": {},
     "output_type": "execute_result"
    }
   ],
   "source": [
    "full_train.head()"
   ]
  },
  {
   "cell_type": "code",
   "execution_count": 5,
   "metadata": {},
   "outputs": [
    {
     "name": "stdout",
     "output_type": "stream",
     "text": [
      "<class 'pandas.core.frame.DataFrame'>\n",
      "Int64Index: 39116 entries, 21838 to 33003\n",
      "Data columns (total 11 columns):\n",
      " #   Column                          Non-Null Count  Dtype  \n",
      "---  ------                          --------------  -----  \n",
      " 0   neighbourhood_group             39116 non-null  object \n",
      " 1   neighbourhood                   39116 non-null  object \n",
      " 2   latitude                        39116 non-null  float64\n",
      " 3   longitude                       39116 non-null  float64\n",
      " 4   room_type                       39116 non-null  object \n",
      " 5   minimum_nights                  39116 non-null  int64  \n",
      " 6   number_of_reviews               39116 non-null  int64  \n",
      " 7   reviews_per_month               39116 non-null  float64\n",
      " 8   calculated_host_listings_count  39116 non-null  int64  \n",
      " 9   availability_365                39116 non-null  int64  \n",
      " 10  price                           39116 non-null  int64  \n",
      "dtypes: float64(3), int64(5), object(3)\n",
      "memory usage: 3.6+ MB\n"
     ]
    }
   ],
   "source": [
    "full_train.info()"
   ]
  },
  {
   "cell_type": "code",
   "execution_count": 6,
   "metadata": {},
   "outputs": [
    {
     "data": {
      "text/plain": [
       "(39116, 11)"
      ]
     },
     "execution_count": 6,
     "metadata": {},
     "output_type": "execute_result"
    }
   ],
   "source": [
    "full_train.shape"
   ]
  },
  {
   "cell_type": "code",
   "execution_count": 7,
   "metadata": {},
   "outputs": [],
   "source": [
    "X_train = full_train.drop(['price'], axis=1)\n",
    "y_train = full_train['price']\n",
    "X_test = full_test.drop(['price'], axis=1)\n",
    "y_test = full_test['price']"
   ]
  },
  {
   "cell_type": "code",
   "execution_count": 8,
   "metadata": {},
   "outputs": [],
   "source": [
    "categorical_features = [\n",
    "  'neighbourhood_group', \n",
    "  'neighbourhood',\n",
    "  'room_type'\n",
    "]"
   ]
  },
  {
   "cell_type": "code",
   "execution_count": 9,
   "metadata": {},
   "outputs": [],
   "source": [
    "for feature in categorical_features:\n",
    "  le = LabelEncoder()\n",
    "  le.fit(X_train[feature])\n",
    "  X_train[feature] = le.transform(X_train[feature])\n",
    "  X_test[feature] = le.transform(X_test[feature])"
   ]
  },
  {
   "cell_type": "code",
   "execution_count": 10,
   "metadata": {},
   "outputs": [
    {
     "data": {
      "text/html": [
       "<div>\n",
       "<style scoped>\n",
       "    .dataframe tbody tr th:only-of-type {\n",
       "        vertical-align: middle;\n",
       "    }\n",
       "\n",
       "    .dataframe tbody tr th {\n",
       "        vertical-align: top;\n",
       "    }\n",
       "\n",
       "    .dataframe thead th {\n",
       "        text-align: right;\n",
       "    }\n",
       "</style>\n",
       "<table border=\"1\" class=\"dataframe\">\n",
       "  <thead>\n",
       "    <tr style=\"text-align: right;\">\n",
       "      <th></th>\n",
       "      <th>neighbourhood_group</th>\n",
       "      <th>neighbourhood</th>\n",
       "      <th>latitude</th>\n",
       "      <th>longitude</th>\n",
       "      <th>room_type</th>\n",
       "      <th>minimum_nights</th>\n",
       "      <th>number_of_reviews</th>\n",
       "      <th>reviews_per_month</th>\n",
       "      <th>calculated_host_listings_count</th>\n",
       "      <th>availability_365</th>\n",
       "    </tr>\n",
       "  </thead>\n",
       "  <tbody>\n",
       "    <tr>\n",
       "      <th>21838</th>\n",
       "      <td>2</td>\n",
       "      <td>64</td>\n",
       "      <td>40.72208</td>\n",
       "      <td>-73.98109</td>\n",
       "      <td>1</td>\n",
       "      <td>1</td>\n",
       "      <td>116</td>\n",
       "      <td>4.07</td>\n",
       "      <td>2</td>\n",
       "      <td>238</td>\n",
       "    </tr>\n",
       "    <tr>\n",
       "      <th>47539</th>\n",
       "      <td>2</td>\n",
       "      <td>145</td>\n",
       "      <td>40.72206</td>\n",
       "      <td>-73.99695</td>\n",
       "      <td>0</td>\n",
       "      <td>4</td>\n",
       "      <td>0</td>\n",
       "      <td>0.00</td>\n",
       "      <td>1</td>\n",
       "      <td>317</td>\n",
       "    </tr>\n",
       "    <tr>\n",
       "      <th>25386</th>\n",
       "      <td>4</td>\n",
       "      <td>82</td>\n",
       "      <td>40.59546</td>\n",
       "      <td>-74.06092</td>\n",
       "      <td>0</td>\n",
       "      <td>7</td>\n",
       "      <td>0</td>\n",
       "      <td>0.00</td>\n",
       "      <td>3</td>\n",
       "      <td>365</td>\n",
       "    </tr>\n",
       "    <tr>\n",
       "      <th>24173</th>\n",
       "      <td>2</td>\n",
       "      <td>201</td>\n",
       "      <td>40.77854</td>\n",
       "      <td>-73.94984</td>\n",
       "      <td>0</td>\n",
       "      <td>31</td>\n",
       "      <td>7</td>\n",
       "      <td>0.30</td>\n",
       "      <td>33</td>\n",
       "      <td>345</td>\n",
       "    </tr>\n",
       "    <tr>\n",
       "      <th>27875</th>\n",
       "      <td>1</td>\n",
       "      <td>13</td>\n",
       "      <td>40.69854</td>\n",
       "      <td>-73.94069</td>\n",
       "      <td>1</td>\n",
       "      <td>2</td>\n",
       "      <td>4</td>\n",
       "      <td>0.21</td>\n",
       "      <td>1</td>\n",
       "      <td>0</td>\n",
       "    </tr>\n",
       "  </tbody>\n",
       "</table>\n",
       "</div>"
      ],
      "text/plain": [
       "       neighbourhood_group  neighbourhood  latitude  longitude  room_type  \\\n",
       "21838                    2             64  40.72208  -73.98109          1   \n",
       "47539                    2            145  40.72206  -73.99695          0   \n",
       "25386                    4             82  40.59546  -74.06092          0   \n",
       "24173                    2            201  40.77854  -73.94984          0   \n",
       "27875                    1             13  40.69854  -73.94069          1   \n",
       "\n",
       "       minimum_nights  number_of_reviews  reviews_per_month  \\\n",
       "21838               1                116               4.07   \n",
       "47539               4                  0               0.00   \n",
       "25386               7                  0               0.00   \n",
       "24173              31                  7               0.30   \n",
       "27875               2                  4               0.21   \n",
       "\n",
       "       calculated_host_listings_count  availability_365  \n",
       "21838                               2               238  \n",
       "47539                               1               317  \n",
       "25386                               3               365  \n",
       "24173                              33               345  \n",
       "27875                               1                 0  "
      ]
     },
     "execution_count": 10,
     "metadata": {},
     "output_type": "execute_result"
    }
   ],
   "source": [
    "X_train.head()"
   ]
  },
  {
   "cell_type": "code",
   "execution_count": 11,
   "metadata": {},
   "outputs": [
    {
     "data": {
      "text/plain": [
       "21838     73\n",
       "47539    189\n",
       "25386    800\n",
       "24173    265\n",
       "27875     50\n",
       "        ... \n",
       "43723     60\n",
       "32511    157\n",
       "5192     115\n",
       "12172    330\n",
       "33003     60\n",
       "Name: price, Length: 39116, dtype: int64"
      ]
     },
     "execution_count": 11,
     "metadata": {},
     "output_type": "execute_result"
    }
   ],
   "source": [
    "y_train"
   ]
  },
  {
   "cell_type": "code",
   "execution_count": 12,
   "metadata": {},
   "outputs": [],
   "source": [
    "null_model = DummyRegressor(strategy='median')"
   ]
  },
  {
   "cell_type": "code",
   "execution_count": 13,
   "metadata": {},
   "outputs": [
    {
     "data": {
      "text/plain": [
       "DummyRegressor(constant=None, quantile=None, strategy='median')"
      ]
     },
     "execution_count": 13,
     "metadata": {},
     "output_type": "execute_result"
    }
   ],
   "source": [
    "null_model.fit(X_train, y_train)"
   ]
  },
  {
   "cell_type": "markdown",
   "metadata": {},
   "source": [
    "The MSE of the null model is:"
   ]
  },
  {
   "cell_type": "code",
   "execution_count": 14,
   "metadata": {},
   "outputs": [
    {
     "data": {
      "text/plain": [
       "83.20462214950403"
      ]
     },
     "execution_count": 14,
     "metadata": {},
     "output_type": "execute_result"
    }
   ],
   "source": [
    "mean_absolute_error(y_test, null_model.predict(X_test))"
   ]
  },
  {
   "cell_type": "code",
   "execution_count": 15,
   "metadata": {},
   "outputs": [],
   "source": [
    "random_forest_tuning_parameters = {\n",
    "  'max_depth': [10, 50],\n",
    "  'min_samples_split': [5, 20],\n",
    "  'n_estimators': [600, 1500],\n",
    "  'criterion': ['mse'],\n",
    "  'random_state': [0]\n",
    "}"
   ]
  },
  {
   "cell_type": "code",
   "execution_count": 18,
   "metadata": {},
   "outputs": [],
   "source": [
    "rf = GridSearchCV(\n",
    "  estimator=RandomForestRegressor(), \n",
    "  param_grid=random_forest_tuning_parameters, \n",
    "  cv=4, \n",
    "  verbose=2,\n",
    "  n_jobs=-1,\n",
    "  scoring='neg_mean_absolute_error'\n",
    ")"
   ]
  },
  {
   "cell_type": "code",
   "execution_count": 19,
   "metadata": {},
   "outputs": [
    {
     "name": "stdout",
     "output_type": "stream",
     "text": [
      "Fitting 4 folds for each of 8 candidates, totalling 32 fits\n"
     ]
    },
    {
     "name": "stderr",
     "output_type": "stream",
     "text": [
      "[Parallel(n_jobs=-1)]: Using backend LokyBackend with 8 concurrent workers.\n",
      "[Parallel(n_jobs=-1)]: Done  32 out of  32 | elapsed: 13.3min finished\n"
     ]
    },
    {
     "data": {
      "text/plain": [
       "GridSearchCV(cv=4, error_score='raise-deprecating',\n",
       "             estimator=RandomForestRegressor(bootstrap=True, criterion='mse',\n",
       "                                             max_depth=None,\n",
       "                                             max_features='auto',\n",
       "                                             max_leaf_nodes=None,\n",
       "                                             min_impurity_decrease=0.0,\n",
       "                                             min_impurity_split=None,\n",
       "                                             min_samples_leaf=1,\n",
       "                                             min_samples_split=2,\n",
       "                                             min_weight_fraction_leaf=0.0,\n",
       "                                             n_estimators='warn', n_jobs=None,\n",
       "                                             oob_score=False, random_state=None,\n",
       "                                             verbose=0, warm_start=False),\n",
       "             iid='warn', n_jobs=-1,\n",
       "             param_grid={'criterion': ['mse'], 'max_depth': [10, 50],\n",
       "                         'min_samples_split': [5, 20],\n",
       "                         'n_estimators': [600, 1500], 'random_state': [0]},\n",
       "             pre_dispatch='2*n_jobs', refit=True, return_train_score=False,\n",
       "             scoring='neg_mean_absolute_error', verbose=2)"
      ]
     },
     "execution_count": 19,
     "metadata": {},
     "output_type": "execute_result"
    }
   ],
   "source": [
    "rf.fit(X_train, y_train)"
   ]
  },
  {
   "cell_type": "code",
   "execution_count": 20,
   "metadata": {},
   "outputs": [],
   "source": [
    "def print_model_info(grid_model, model_name):\n",
    "  print(model_name + ' info:')\n",
    "  print('')\n",
    "  print('MAE:')\n",
    "  print(mean_absolute_error(y_test, grid_model.best_estimator_.predict(X_test)))\n",
    "  print('')\n",
    "  print('Best params: ')\n",
    "  print(grid_model.best_params_)\n",
    "  feature_importantance_series = pd.Series(grid_model.best_estimator_.feature_importances_)\n",
    "  feature_importantance_series.index = X_test.columns\n",
    "  print('')\n",
    "  print('Feature importance:')\n",
    "  print(feature_importantance_series.sort_values(ascending=False))"
   ]
  },
  {
   "cell_type": "code",
   "execution_count": 21,
   "metadata": {},
   "outputs": [
    {
     "name": "stdout",
     "output_type": "stream",
     "text": [
      "Random Forest Regressor info:\n",
      "\n",
      "MAE:\n",
      "65.3525494406265\n",
      "\n",
      "Best params: \n",
      "{'criterion': 'mse', 'max_depth': 50, 'min_samples_split': 20, 'n_estimators': 1500, 'random_state': 0}\n",
      "\n",
      "Feature importance:\n",
      "longitude                         0.288875\n",
      "latitude                          0.171414\n",
      "room_type                         0.126948\n",
      "availability_365                  0.100872\n",
      "calculated_host_listings_count    0.085693\n",
      "neighbourhood                     0.077801\n",
      "minimum_nights                    0.071719\n",
      "reviews_per_month                 0.045339\n",
      "number_of_reviews                 0.027207\n",
      "neighbourhood_group               0.004131\n",
      "dtype: float64\n"
     ]
    }
   ],
   "source": [
    "print_model_info(rf, 'Random Forest Regressor')"
   ]
  },
  {
   "cell_type": "code",
   "execution_count": 22,
   "metadata": {},
   "outputs": [],
   "source": [
    "light_regressor_tuning_parameters = {\n",
    "  'min_data_in_leaf': [100, 300, 500, 1000, 1500],\n",
    "  'num_leaves': [15, 30, 40, 50, 60],\n",
    "  'max_depth': [15, 30, 45],\n",
    "  'random_state': [0]\n",
    "}"
   ]
  },
  {
   "cell_type": "code",
   "execution_count": 23,
   "metadata": {},
   "outputs": [],
   "source": [
    "light_reg = GridSearchCV(\n",
    "  estimator=LGBMRegressor(), \n",
    "  param_grid=light_regressor_tuning_parameters, \n",
    "  cv=4, \n",
    "  verbose=2,\n",
    "  n_jobs=-1,\n",
    "  scoring='neg_mean_absolute_error'\n",
    ")"
   ]
  },
  {
   "cell_type": "code",
   "execution_count": 24,
   "metadata": {},
   "outputs": [
    {
     "name": "stdout",
     "output_type": "stream",
     "text": [
      "Fitting 4 folds for each of 75 candidates, totalling 300 fits\n"
     ]
    },
    {
     "name": "stderr",
     "output_type": "stream",
     "text": [
      "[Parallel(n_jobs=-1)]: Using backend LokyBackend with 8 concurrent workers.\n",
      "[Parallel(n_jobs=-1)]: Done  25 tasks      | elapsed:    2.8s\n",
      "[Parallel(n_jobs=-1)]: Done 146 tasks      | elapsed:   14.2s\n",
      "[Parallel(n_jobs=-1)]: Done 300 out of 300 | elapsed:   28.5s finished\n"
     ]
    },
    {
     "data": {
      "text/plain": [
       "GridSearchCV(cv=4, error_score='raise-deprecating',\n",
       "             estimator=LGBMRegressor(boosting_type='gbdt', class_weight=None,\n",
       "                                     colsample_bytree=1.0,\n",
       "                                     importance_type='split', learning_rate=0.1,\n",
       "                                     max_depth=-1, min_child_samples=20,\n",
       "                                     min_child_weight=0.001, min_split_gain=0.0,\n",
       "                                     n_estimators=100, n_jobs=-1, num_leaves=31,\n",
       "                                     objective=None, random_state=None,\n",
       "                                     reg_alpha=0.0, reg_lambda=0.0, silent=True,\n",
       "                                     subsample=1.0, subsample_for_bin=200000,\n",
       "                                     subsample_freq=0),\n",
       "             iid='warn', n_jobs=-1,\n",
       "             param_grid={'max_depth': [15, 30, 45],\n",
       "                         'min_data_in_leaf': [100, 300, 500, 1000, 1500],\n",
       "                         'num_leaves': [15, 30, 40, 50, 60],\n",
       "                         'random_state': [0]},\n",
       "             pre_dispatch='2*n_jobs', refit=True, return_train_score=False,\n",
       "             scoring='neg_mean_absolute_error', verbose=2)"
      ]
     },
     "execution_count": 24,
     "metadata": {},
     "output_type": "execute_result"
    }
   ],
   "source": [
    "light_reg.fit(X_train, y_train, eval_metric='l1')"
   ]
  },
  {
   "cell_type": "code",
   "execution_count": 25,
   "metadata": {},
   "outputs": [
    {
     "name": "stdout",
     "output_type": "stream",
     "text": [
      "LightGBM Regressor info:\n",
      "\n",
      "MAE:\n",
      "65.79249854834946\n",
      "\n",
      "Best params: \n",
      "{'max_depth': 15, 'min_data_in_leaf': 100, 'num_leaves': 15, 'random_state': 0}\n",
      "\n",
      "Feature importance:\n",
      "minimum_nights                    254\n",
      "latitude                          218\n",
      "longitude                         211\n",
      "availability_365                  210\n",
      "calculated_host_listings_count    182\n",
      "reviews_per_month                  95\n",
      "number_of_reviews                  87\n",
      "neighbourhood                      79\n",
      "room_type                          60\n",
      "neighbourhood_group                 4\n",
      "dtype: int32\n"
     ]
    }
   ],
   "source": [
    "print_model_info(light_reg, 'LightGBM Regressor')"
   ]
  },
  {
   "cell_type": "code",
   "execution_count": 26,
   "metadata": {},
   "outputs": [],
   "source": [
    "xgb_regressor_tuning_parameters = { \n",
    "  'max_depth': [5, 7, 10],\n",
    "  'colsample_bytree': [0.6, 0.7, 0.8],\n",
    "  'n_estimators': [500, 1000],\n",
    "  'random_state': [0]\n",
    "}"
   ]
  },
  {
   "cell_type": "code",
   "execution_count": 27,
   "metadata": {},
   "outputs": [],
   "source": [
    "xgb_reg = GridSearchCV(\n",
    "  estimator=XGBRegressor(), \n",
    "  param_grid=xgb_regressor_tuning_parameters, \n",
    "  cv=4, \n",
    "  verbose=2,\n",
    "  n_jobs=-1,\n",
    "  scoring='neg_mean_absolute_error'\n",
    ")"
   ]
  },
  {
   "cell_type": "code",
   "execution_count": 28,
   "metadata": {},
   "outputs": [
    {
     "name": "stdout",
     "output_type": "stream",
     "text": [
      "Fitting 4 folds for each of 18 candidates, totalling 72 fits\n"
     ]
    },
    {
     "name": "stderr",
     "output_type": "stream",
     "text": [
      "[Parallel(n_jobs=-1)]: Using backend LokyBackend with 8 concurrent workers.\n",
      "[Parallel(n_jobs=-1)]: Done  25 tasks      | elapsed:  3.2min\n",
      "[Parallel(n_jobs=-1)]: Done  72 out of  72 | elapsed:  8.3min finished\n"
     ]
    },
    {
     "name": "stdout",
     "output_type": "stream",
     "text": [
      "[18:50:31] WARNING: src/objective/regression_obj.cu:152: reg:linear is now deprecated in favor of reg:squarederror.\n"
     ]
    },
    {
     "data": {
      "text/plain": [
       "GridSearchCV(cv=4, error_score='raise-deprecating',\n",
       "             estimator=XGBRegressor(base_score=0.5, booster='gbtree',\n",
       "                                    colsample_bylevel=1, colsample_bynode=1,\n",
       "                                    colsample_bytree=1, gamma=0,\n",
       "                                    importance_type='gain', learning_rate=0.1,\n",
       "                                    max_delta_step=0, max_depth=3,\n",
       "                                    min_child_weight=1, missing=None,\n",
       "                                    n_estimators=100, n_jobs=1, nthread=None,\n",
       "                                    objective='reg:linear', random_state=0,\n",
       "                                    reg_alpha=0, reg_lambda=1,\n",
       "                                    scale_pos_weight=1, seed=None, silent=None,\n",
       "                                    subsample=1, verbosity=1),\n",
       "             iid='warn', n_jobs=-1,\n",
       "             param_grid={'colsample_bytree': [0.6, 0.7, 0.8],\n",
       "                         'max_depth': [5, 7, 10], 'n_estimators': [500, 1000],\n",
       "                         'random_state': [0]},\n",
       "             pre_dispatch='2*n_jobs', refit=True, return_train_score=False,\n",
       "             scoring='neg_mean_absolute_error', verbose=2)"
      ]
     },
     "execution_count": 28,
     "metadata": {},
     "output_type": "execute_result"
    }
   ],
   "source": [
    "xgb_reg.fit(X_train, y_train, eval_metric='mae')"
   ]
  },
  {
   "cell_type": "code",
   "execution_count": 29,
   "metadata": {},
   "outputs": [
    {
     "name": "stdout",
     "output_type": "stream",
     "text": [
      "XGBoost Regressor info:\n",
      "\n",
      "MAE:\n",
      "65.45117289039399\n",
      "\n",
      "Best params: \n",
      "{'colsample_bytree': 0.7, 'max_depth': 5, 'n_estimators': 500, 'random_state': 0}\n",
      "\n",
      "Feature importance:\n",
      "longitude                         0.283776\n",
      "room_type                         0.176409\n",
      "calculated_host_listings_count    0.097178\n",
      "neighbourhood_group               0.094955\n",
      "neighbourhood                     0.084899\n",
      "latitude                          0.079692\n",
      "minimum_nights                    0.054002\n",
      "number_of_reviews                 0.044417\n",
      "availability_365                  0.043061\n",
      "reviews_per_month                 0.041611\n",
      "dtype: float32\n"
     ]
    }
   ],
   "source": [
    "print_model_info(xgb_reg, 'XGBoost Regressor')"
   ]
  },
  {
   "cell_type": "code",
   "execution_count": 30,
   "metadata": {},
   "outputs": [],
   "source": [
    "test_average_ensemble_prediction = np.average([\n",
    "  rf.best_estimator_.predict(X_test),\n",
    "  light_reg.best_estimator_.predict(X_test),\n",
    "  xgb_reg.best_estimator_.predict(X_test)\n",
    "], axis=0)"
   ]
  },
  {
   "cell_type": "code",
   "execution_count": 31,
   "metadata": {},
   "outputs": [
    {
     "data": {
      "text/plain": [
       "63.93848471184588"
      ]
     },
     "execution_count": 31,
     "metadata": {},
     "output_type": "execute_result"
    }
   ],
   "source": [
    "mean_absolute_error(y_test, test_average_ensemble_prediction)"
   ]
  },
  {
   "cell_type": "code",
   "execution_count": 32,
   "metadata": {},
   "outputs": [],
   "source": [
    "ensemble_residual_df = pd.DataFrame({\n",
    "  'true_price': y_test,\n",
    "  'average_ensemble_residual': y_test - test_average_ensemble_prediction\n",
    "})"
   ]
  },
  {
   "cell_type": "code",
   "execution_count": 58,
   "metadata": {},
   "outputs": [],
   "source": [
    "residual_chart = alt.Chart(ensemble_residual_df).mark_circle(size=30, opacity=0.4).encode(\n",
    "  x=alt.X('true_price', title='Price'),\n",
    "  y=alt.Y('average_ensemble_residual', title='Average ensembling residual')\n",
    ").properties(\n",
    "  width=350,\n",
    "  height=500\n",
    ").properties(\n",
    "  title='Average Ensembling Residuals on Test Data'\n",
    ")"
   ]
  },
  {
   "cell_type": "code",
   "execution_count": 59,
   "metadata": {},
   "outputs": [],
   "source": [
    "residual_dist_chart = alt.Chart(ensemble_residual_df).mark_bar().encode(\n",
    "  x=alt.X(\n",
    "    'average_ensemble_residual', \n",
    "    title='Average ensembling residual', \n",
    "    bin=alt.Bin(extent=[-1000, 1000], step=50)\n",
    "  ),\n",
    "  y='count()'\n",
    ").properties(\n",
    "  width=350,\n",
    "  height=500\n",
    ").properties(\n",
    "  title='Ensembling Residual Distribution'\n",
    ")"
   ]
  },
  {
   "cell_type": "code",
   "execution_count": 61,
   "metadata": {},
   "outputs": [],
   "source": [
    "model_result_charts = (residual_chart | residual_dist_chart).configure_axis(\n",
    "  labelFontSize=15,\n",
    "  titleFontSize=15\n",
    ")"
   ]
  },
  {
   "cell_type": "code",
   "execution_count": 62,
   "metadata": {},
   "outputs": [],
   "source": [
    "with alt.data_transformers.enable('default'):\n",
    "    model_result_charts.save(\"../results/plots/model_result_charts.png\")"
   ]
  },
  {
   "cell_type": "code",
   "execution_count": 63,
   "metadata": {},
   "outputs": [
    {
     "data": {
      "text/html": [
       "<div>\n",
       "<style scoped>\n",
       "    .dataframe tbody tr th:only-of-type {\n",
       "        vertical-align: middle;\n",
       "    }\n",
       "\n",
       "    .dataframe tbody tr th {\n",
       "        vertical-align: top;\n",
       "    }\n",
       "\n",
       "    .dataframe thead th {\n",
       "        text-align: right;\n",
       "    }\n",
       "</style>\n",
       "<table border=\"1\" class=\"dataframe\">\n",
       "  <thead>\n",
       "    <tr style=\"text-align: right;\">\n",
       "      <th></th>\n",
       "      <th>Random Forest</th>\n",
       "      <th>XGBoost</th>\n",
       "      <th>LightGBM</th>\n",
       "    </tr>\n",
       "  </thead>\n",
       "  <tbody>\n",
       "    <tr>\n",
       "      <th>neighbourhood_group</th>\n",
       "      <td>0.004131</td>\n",
       "      <td>0.094955</td>\n",
       "      <td>0.002857</td>\n",
       "    </tr>\n",
       "    <tr>\n",
       "      <th>neighbourhood</th>\n",
       "      <td>0.077801</td>\n",
       "      <td>0.084899</td>\n",
       "      <td>0.056429</td>\n",
       "    </tr>\n",
       "    <tr>\n",
       "      <th>latitude</th>\n",
       "      <td>0.171414</td>\n",
       "      <td>0.079692</td>\n",
       "      <td>0.155714</td>\n",
       "    </tr>\n",
       "    <tr>\n",
       "      <th>longitude</th>\n",
       "      <td>0.288875</td>\n",
       "      <td>0.283776</td>\n",
       "      <td>0.150714</td>\n",
       "    </tr>\n",
       "    <tr>\n",
       "      <th>room_type</th>\n",
       "      <td>0.126948</td>\n",
       "      <td>0.176409</td>\n",
       "      <td>0.042857</td>\n",
       "    </tr>\n",
       "    <tr>\n",
       "      <th>minimum_nights</th>\n",
       "      <td>0.071719</td>\n",
       "      <td>0.054002</td>\n",
       "      <td>0.181429</td>\n",
       "    </tr>\n",
       "    <tr>\n",
       "      <th>number_of_reviews</th>\n",
       "      <td>0.027207</td>\n",
       "      <td>0.044417</td>\n",
       "      <td>0.062143</td>\n",
       "    </tr>\n",
       "    <tr>\n",
       "      <th>reviews_per_month</th>\n",
       "      <td>0.045339</td>\n",
       "      <td>0.041611</td>\n",
       "      <td>0.067857</td>\n",
       "    </tr>\n",
       "    <tr>\n",
       "      <th>calculated_host_listings_count</th>\n",
       "      <td>0.085693</td>\n",
       "      <td>0.097178</td>\n",
       "      <td>0.130000</td>\n",
       "    </tr>\n",
       "    <tr>\n",
       "      <th>availability_365</th>\n",
       "      <td>0.100872</td>\n",
       "      <td>0.043061</td>\n",
       "      <td>0.150000</td>\n",
       "    </tr>\n",
       "  </tbody>\n",
       "</table>\n",
       "</div>"
      ],
      "text/plain": [
       "                                Random Forest   XGBoost  LightGBM\n",
       "neighbourhood_group                  0.004131  0.094955  0.002857\n",
       "neighbourhood                        0.077801  0.084899  0.056429\n",
       "latitude                             0.171414  0.079692  0.155714\n",
       "longitude                            0.288875  0.283776  0.150714\n",
       "room_type                            0.126948  0.176409  0.042857\n",
       "minimum_nights                       0.071719  0.054002  0.181429\n",
       "number_of_reviews                    0.027207  0.044417  0.062143\n",
       "reviews_per_month                    0.045339  0.041611  0.067857\n",
       "calculated_host_listings_count       0.085693  0.097178  0.130000\n",
       "availability_365                     0.100872  0.043061  0.150000"
      ]
     },
     "execution_count": 63,
     "metadata": {},
     "output_type": "execute_result"
    }
   ],
   "source": [
    "feature_important_df = pd.DataFrame({\n",
    "  'Random Forest': rf.best_estimator_.feature_importances_,\n",
    "  'XGBoost': xgb_reg.best_estimator_.feature_importances_,\n",
    "  'LightGBM': light_reg.best_estimator_.feature_importances_/sum(light_reg.best_estimator_.feature_importances_)\n",
    "})\n",
    "\n",
    "feature_important_df.index = X_test.columns\n",
    "\n",
    "feature_important_df"
   ]
  },
  {
   "cell_type": "code",
   "execution_count": 64,
   "metadata": {},
   "outputs": [],
   "source": [
    "train_average_ensemble_prediction = np.average([\n",
    "  rf.best_estimator_.predict(X_train),\n",
    "  light_reg.best_estimator_.predict(X_train),\n",
    "  xgb_reg.best_estimator_.predict(X_train)\n",
    "], axis=0)\n",
    "\n",
    "mean_absolute_error_df = pd.DataFrame({\n",
    "  'train_mean_absolute_error': [\n",
    "    mean_absolute_error(y_train, null_model.predict(X_train)),\n",
    "    mean_absolute_error(y_train, rf.predict(X_train)),\n",
    "    mean_absolute_error(y_train, xgb_reg.predict(X_train)),\n",
    "    mean_absolute_error(y_train, light_reg.predict(X_train)),\n",
    "    mean_absolute_error(y_train, train_average_ensemble_prediction),  \n",
    "  ],\n",
    "  'test_mean_absolute_error': [\n",
    "    mean_absolute_error(y_test, null_model.predict(X_test)),\n",
    "    mean_absolute_error(y_test, rf.predict(X_test)),\n",
    "    mean_absolute_error(y_test, xgb_reg.predict(X_test)),\n",
    "    mean_absolute_error(y_test, light_reg.predict(X_test)),\n",
    "    mean_absolute_error(y_test, test_average_ensemble_prediction),  \n",
    "  ]\n",
    "})\n",
    "\n",
    "mean_absolute_error_df.index = [\n",
    "  'Median Null Model',\n",
    "  'Random Forest', \n",
    "  'XGBoost', \n",
    "  'LightGBM', \n",
    "  'Average Ensembling'\n",
    "]"
   ]
  },
  {
   "cell_type": "code",
   "execution_count": 65,
   "metadata": {},
   "outputs": [
    {
     "data": {
      "text/html": [
       "<div>\n",
       "<style scoped>\n",
       "    .dataframe tbody tr th:only-of-type {\n",
       "        vertical-align: middle;\n",
       "    }\n",
       "\n",
       "    .dataframe tbody tr th {\n",
       "        vertical-align: top;\n",
       "    }\n",
       "\n",
       "    .dataframe thead th {\n",
       "        text-align: right;\n",
       "    }\n",
       "</style>\n",
       "<table border=\"1\" class=\"dataframe\">\n",
       "  <thead>\n",
       "    <tr style=\"text-align: right;\">\n",
       "      <th></th>\n",
       "      <th>train_mean_absolute_error</th>\n",
       "      <th>test_mean_absolute_error</th>\n",
       "    </tr>\n",
       "  </thead>\n",
       "  <tbody>\n",
       "    <tr>\n",
       "      <th>Median Null Model</th>\n",
       "      <td>84.317492</td>\n",
       "      <td>83.204622</td>\n",
       "    </tr>\n",
       "    <tr>\n",
       "      <th>Random Forest</th>\n",
       "      <td>46.710278</td>\n",
       "      <td>65.352549</td>\n",
       "    </tr>\n",
       "    <tr>\n",
       "      <th>XGBoost</th>\n",
       "      <td>53.081154</td>\n",
       "      <td>65.451173</td>\n",
       "    </tr>\n",
       "    <tr>\n",
       "      <th>LightGBM</th>\n",
       "      <td>64.045905</td>\n",
       "      <td>65.792499</td>\n",
       "    </tr>\n",
       "    <tr>\n",
       "      <th>Average Ensembling</th>\n",
       "      <td>53.269785</td>\n",
       "      <td>63.938485</td>\n",
       "    </tr>\n",
       "  </tbody>\n",
       "</table>\n",
       "</div>"
      ],
      "text/plain": [
       "                    train_mean_absolute_error  test_mean_absolute_error\n",
       "Median Null Model                   84.317492                 83.204622\n",
       "Random Forest                       46.710278                 65.352549\n",
       "XGBoost                             53.081154                 65.451173\n",
       "LightGBM                            64.045905                 65.792499\n",
       "Average Ensembling                  53.269785                 63.938485"
      ]
     },
     "execution_count": 65,
     "metadata": {},
     "output_type": "execute_result"
    }
   ],
   "source": [
    "mean_absolute_error_df"
   ]
  },
  {
   "cell_type": "code",
   "execution_count": 66,
   "metadata": {},
   "outputs": [],
   "source": [
    "mean_absolute_error_df.to_csv(\"../results/tables/mean_absolute_error_table.csv\")"
   ]
  },
  {
   "cell_type": "code",
   "execution_count": 67,
   "metadata": {},
   "outputs": [],
   "source": [
    "feature_important_df.to_csv('../results/tables/feature_importance_table.csv')"
   ]
  },
  {
   "cell_type": "code",
   "execution_count": null,
   "metadata": {},
   "outputs": [],
   "source": []
  }
 ],
 "metadata": {
  "kernelspec": {
   "display_name": "Python 3",
   "language": "python",
   "name": "python3"
  },
  "language_info": {
   "codemirror_mode": {
    "name": "ipython",
    "version": 3
   },
   "file_extension": ".py",
   "mimetype": "text/x-python",
   "name": "python",
   "nbconvert_exporter": "python",
   "pygments_lexer": "ipython3",
   "version": "3.7.3"
  }
 },
 "nbformat": 4,
 "nbformat_minor": 2
}
